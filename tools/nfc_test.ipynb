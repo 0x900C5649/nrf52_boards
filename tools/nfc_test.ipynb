{
 "cells": [
  {
   "cell_type": "code",
   "execution_count": 9,
   "metadata": {},
   "outputs": [],
   "source": [
    "from smartcard import *\n",
    "from smartcard.CardType import *\n",
    "from smartcard.CardRequest import *\n",
    "from smartcard.CardConnectionObserver import *\n",
    "from smartcard.util import *\n",
    "from smartcard.CardConnection import CardConnection\n",
    "import binascii"
   ]
  },
  {
   "cell_type": "code",
   "execution_count": 2,
   "metadata": {},
   "outputs": [],
   "source": [
    "cardtype = AnyCardType()\n",
    "cardrequest = CardRequest( timeout=10, cardType=cardtype )\n",
    "cardservice = cardrequest.waitforcard()"
   ]
  },
  {
   "cell_type": "code",
   "execution_count": 3,
   "metadata": {},
   "outputs": [
    {
     "name": "stdout",
     "output_type": "stream",
     "text": [
      "3B 80 80 01 01\n"
     ]
    }
   ],
   "source": [
    "cardservice.connection.connect( )\n",
    "print (toHexString( cardservice.connection.getATR() ))"
   ]
  },
  {
   "cell_type": "code",
   "execution_count": 4,
   "metadata": {},
   "outputs": [
    {
     "name": "stdout",
     "output_type": "stream",
     "text": [
      "ACS ACR1252 1S CL Reader [ACR1252 Dual Reader PICC] 00 00\n"
     ]
    }
   ],
   "source": [
    "print(cardservice.connection.getReader())"
   ]
  },
  {
   "cell_type": "code",
   "execution_count": 5,
   "metadata": {},
   "outputs": [],
   "source": [
    "SELECT = [0xA0, 0xA4, 0x00, 0x00, 0x02]\n",
    "DF_TELECOM = [0x7F, 0x10]\n",
    "BEEPOFF = [0xFF, 0x00,0x52,0x00,0x00]"
   ]
  },
  {
   "cell_type": "code",
   "execution_count": 6,
   "metadata": {},
   "outputs": [],
   "source": [
    "SELECTFIDO = bytearray.fromhex('00a4040008a0000006472f000100')"
   ]
  },
  {
   "cell_type": "code",
   "execution_count": 7,
   "metadata": {},
   "outputs": [
    {
     "data": {
      "text/plain": [
       "[0, 164, 4, 0, 8, 160, 0, 0, 6, 71, 47, 0, 1, 0]"
      ]
     },
     "execution_count": 7,
     "metadata": {},
     "output_type": "execute_result"
    }
   ],
   "source": [
    "list(SELECTFIDO)"
   ]
  },
  {
   "cell_type": "code",
   "execution_count": 8,
   "metadata": {},
   "outputs": [],
   "source": [
    "data, sw1, sw2 = cardservice.connection.transmit( list(SELECTFIDO))"
   ]
  },
  {
   "cell_type": "code",
   "execution_count": 9,
   "metadata": {},
   "outputs": [
    {
     "data": {
      "text/plain": [
       "(['U', '2', 'F', '_', 'V', '2'], '0x90', '0x0')"
      ]
     },
     "execution_count": 9,
     "metadata": {},
     "output_type": "execute_result"
    }
   ],
   "source": [
    "[chr(x) for x in data] , hex(sw1), hex(sw2)"
   ]
  },
  {
   "cell_type": "code",
   "execution_count": 10,
   "metadata": {},
   "outputs": [],
   "source": [
    "data, sw1, sw2 = cardservice.connection.transmit( BEEPOFF )"
   ]
  },
  {
   "cell_type": "code",
   "execution_count": 11,
   "metadata": {},
   "outputs": [],
   "source": [
    "U2F_register = bytearray.fromhex('''00 01 03 00 40 D1 7E 2D\n",
    "D5 4D 12 B5 B8 24 DD CD\n",
    "57 EC 01 3A D7 31 26 78\n",
    "AF 0D 86 6C C0 35 3B AE\n",
    "FF C5 67 92 D6 74 A6 EA\n",
    "92 13 C9 9C 2F 74 B2 24\n",
    "92 B3 20 CF 40 26 2A 94\n",
    "C1 A9 50 A0 39 7F 29 25\n",
    "0B 60 84 1E F0 00''')\n"
   ]
  },
  {
   "cell_type": "code",
   "execution_count": 14,
   "metadata": {
    "scrolled": true
   },
   "outputs": [],
   "source": [
    "data, sw1, sw2 = cardservice.connection.transmit( [0xFF, 0x00, 0x00,0x00, len(list(U2F_register))] + list(U2F_register) )"
   ]
  },
  {
   "cell_type": "code",
   "execution_count": 15,
   "metadata": {},
   "outputs": [
    {
     "data": {
      "text/plain": [
       "('0x63', '0x0')"
      ]
     },
     "execution_count": 15,
     "metadata": {},
     "output_type": "execute_result"
    }
   ],
   "source": [
    "hex(sw1), hex(sw2)"
   ]
  },
  {
   "cell_type": "code",
   "execution_count": 51,
   "metadata": {},
   "outputs": [],
   "source": [
    "GETRESPONSE = list (bytearray.fromhex('80 C0 00 00 00'))"
   ]
  },
  {
   "cell_type": "code",
   "execution_count": 123,
   "metadata": {},
   "outputs": [
    {
     "name": "stdout",
     "output_type": "stream",
     "text": [
      "[65, 67, 82, 49, 50, 50, 85, 50] 49 52\n"
     ]
    }
   ],
   "source": [
    "GETFIRMWAREVERSION = list (bytearray.fromhex('FF 00 48 00 00'))\n",
    "data, sw1, sw2 = cardservice.connection.transmit( list(GETFIRMWAREVERSION) )\n",
    "print (data, sw1, sw2)"
   ]
  },
  {
   "cell_type": "code",
   "execution_count": 1,
   "metadata": {},
   "outputs": [],
   "source": [
    "def turnoffbeep():\n",
    "    BEEPOFF = [0xFF, 0x00,0x52,0x00,0x00]\n",
    "    data, sw1, sw2 = cardservice.connection.transmit( BEEPOFF )"
   ]
  },
  {
   "cell_type": "code",
   "execution_count": 7,
   "metadata": {},
   "outputs": [],
   "source": [
    "turnoffbeep()"
   ]
  },
  {
   "cell_type": "code",
   "execution_count": 106,
   "metadata": {},
   "outputs": [],
   "source": [
    "TURNOFFTIMEOUT = [0xFF, 0x00,0x41,0xFF,0x00]\n",
    "data, sw1, sw2 = cardservice.connection.transmit( list(TURNOFFTIMEOUT) )"
   ]
  },
  {
   "cell_type": "code",
   "execution_count": 1,
   "metadata": {},
   "outputs": [],
   "source": [
    "import cbor2"
   ]
  },
  {
   "cell_type": "code",
   "execution_count": 3,
   "metadata": {},
   "outputs": [],
   "source": [
    "cbordecodetest = bytearray.fromhex(\"\"\"a5015820687134968222ec17202e42505f8ed2b16ae22f16bb05b88c25db9e602645f14102a26269646b6578616d706c652e636f6d646e616d656441636d6503a462696458203082019330820138a0030201023082019330820138a0030201023082019330826469636f6e782b68747470733a2f2f706963732e6578616d706c652e636f6d2f30302f702f61426a6a6a707150622e706e67646e616d65766a6f686e70736d697468406578616d706c652e636f6d6b646973706c61794e616d656d4a6f686e20502e20536d6974680482a263616c672664747970656a7075626C69632D6B6579a263616c6739010064747970656a7075626C69632D6B657907a162726bf5\"\"\")"
   ]
  },
  {
   "cell_type": "code",
   "execution_count": 6,
   "metadata": {},
   "outputs": [],
   "source": [
    "obj = cbor2.loads(cbordecodetest)"
   ]
  },
  {
   "cell_type": "code",
   "execution_count": 12,
   "metadata": {},
   "outputs": [
    {
     "data": {
      "text/plain": [
       "{1: b'hq4\\x96\\x82\"\\xec\\x17 .BP_\\x8e\\xd2\\xb1j\\xe2/\\x16\\xbb\\x05\\xb8\\x8c%\\xdb\\x9e`&E\\xf1A',\n",
       " 2: {'id': 'example.com', 'name': 'Acme'},\n",
       " 3: {'id': b'0\\x82\\x01\\x930\\x82\\x018\\xa0\\x03\\x02\\x01\\x020\\x82\\x01\\x930\\x82\\x018\\xa0\\x03\\x02\\x01\\x020\\x82\\x01\\x930\\x82',\n",
       "  'icon': 'https://pics.example.com/00/p/aBjjjpqPb.png',\n",
       "  'name': 'johnpsmith@example.com',\n",
       "  'displayName': 'John P. Smith'},\n",
       " 4: [{'alg': -7, 'type': 'public-key'}, {'alg': -257, 'type': 'public-key'}],\n",
       " 7: {'rk': True}}"
      ]
     },
     "execution_count": 12,
     "metadata": {},
     "output_type": "execute_result"
    }
   ],
   "source": [
    "obj"
   ]
  },
  {
   "cell_type": "code",
   "execution_count": 13,
   "metadata": {},
   "outputs": [
    {
     "data": {
      "text/plain": [
       "'687134968222ec17202e42505f8ed2b16ae22f16bb05b88c25db9e602645f141'"
      ]
     },
     "execution_count": 13,
     "metadata": {},
     "output_type": "execute_result"
    }
   ],
   "source": [
    "obj[1].hex()"
   ]
  },
  {
   "cell_type": "code",
   "execution_count": 10,
   "metadata": {},
   "outputs": [
    {
     "data": {
      "text/plain": [
       "'687134968222ec17202e42505f8ed2b16ae22f16bb05b88c25db9e602645f141'"
      ]
     },
     "execution_count": 10,
     "metadata": {},
     "output_type": "execute_result"
    }
   ],
   "source": []
  },
  {
   "cell_type": "code",
   "execution_count": null,
   "metadata": {},
   "outputs": [],
   "source": []
  }
 ],
 "metadata": {
  "kernelspec": {
   "display_name": "Python 3",
   "language": "python",
   "name": "python3"
  },
  "language_info": {
   "codemirror_mode": {
    "name": "ipython",
    "version": 3
   },
   "file_extension": ".py",
   "mimetype": "text/x-python",
   "name": "python",
   "nbconvert_exporter": "python",
   "pygments_lexer": "ipython3",
   "version": "3.8.5"
  }
 },
 "nbformat": 4,
 "nbformat_minor": 4
}
